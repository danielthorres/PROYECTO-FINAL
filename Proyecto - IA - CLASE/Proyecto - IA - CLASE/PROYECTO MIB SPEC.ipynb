{
 "cells": [
  {
   "cell_type": "markdown",
   "id": "9ef6cd2f-f0cc-4387-8f31-6c6dd8861055",
   "metadata": {
    "tags": []
   },
   "source": [
    "<h1 style=\"font-size:50px;\" align=\"center\">Inferencia Bayesiana usando el Motor de Inferencia MIB</h1>"
   ]
  },
  {
   "cell_type": "markdown",
   "id": "38b6f84d-9074-45d0-9312-04373d05222e",
   "metadata": {},
   "source": [
    "<h1 style=\"font-size:30px;\" align=\"center\">Quien escribió este cuento</h1>"
   ]
  },
  {
   "cell_type": "code",
   "execution_count": null,
   "id": "823f3853-36f6-4a97-997d-3f81eea64b0c",
   "metadata": {},
   "outputs": [],
   "source": [
    "import numpy as np\n",
    "import numpy.ma as ma\n",
    "import pandas as pd\n",
    "import glob\n",
    "import nltk\n",
    "\n",
    "nltk.download('punkt')\n",
    "from nltk.tokenize import word_tokenize\n",
    "\n",
    "from collections import Counter #regresa un diccionario con conteos\n",
    "from collections import OrderedDict #diccionarios ordenados\n",
    "from itertools import product,islice   #calcula producto cartesiano y saca una rebanada de diccionario\n",
    "\n",
    "\n",
    "import mib as mb\n",
    "import tpproc as tp"
   ]
  },
  {
   "cell_type": "code",
   "execution_count": null,
   "id": "6d75f4c7-e35c-442b-9bb0-0ff6f9e86a49",
   "metadata": {},
   "outputs": [],
   "source": [
    "archivos = glob.glob('./Train/*/*')\n",
    "archivos,nombres = tp.carga_cuentos(archivos)\n",
    "df_train = tp.lee_cuentos(archivos)\n",
    "df_train.head()"
   ]
  },
  {
   "cell_type": "code",
   "execution_count": null,
   "id": "89706a83-0ce8-4f4a-8f46-414e0c5b239a",
   "metadata": {},
   "outputs": [],
   "source": [
    "archivos = glob.glob('./Test/*')\n",
    "archivos,nombres = tp.carga_cuentos(archivos)\n",
    "df_test = tp.lee_cuentos(archivos,test=True)\n",
    "df_test.head()"
   ]
  },
  {
   "cell_type": "markdown",
   "id": "835a95b1-a2f5-433d-8d30-dac2468a0b6f",
   "metadata": {},
   "source": [
    "## Formateo de Data Frames de trabajo (paso a paso)"
   ]
  },
  {
   "cell_type": "code",
   "execution_count": null,
   "id": "42b98fe7-3d28-4237-95bf-d2fa5d538ebd",
   "metadata": {},
   "outputs": [],
   "source": [
    "df_train_T = df_train.copy()\n",
    "df_test_T = df_test.copy()"
   ]
  },
  {
   "cell_type": "code",
   "execution_count": null,
   "id": "5cd55fcb",
   "metadata": {},
   "outputs": [],
   "source": [
    "from collections import Counter  #regresa un diccionario con conteos\n",
    "\n",
    "df_train_T['palabras']=df_train_T['texto'].apply(lambda x: x.split())\n",
    "df_train_T['total']=df_train_T['palabras'].apply(lambda x: len(x))\n",
    "df_train_T['conteos']=df_train_T['palabras'].apply(lambda x: Counter(x))\n",
    "\n",
    "df_train_T=df_train_T.sort_values(by=\"total\",ascending=False)\n",
    "df_train_T.head()\n",
    "# df_train_T.tail()"
   ]
  },
  {
   "cell_type": "code",
   "execution_count": null,
   "id": "a4d93d72",
   "metadata": {},
   "outputs": [],
   "source": [
    "df_train_T['conteos']=df_train_T['conteos'].apply(lambda x:{k: v for k, v in sorted(x.items(), key=lambda item: item[1],reverse=True)})\n",
    "df_train_T.head()"
   ]
  },
  {
   "cell_type": "code",
   "execution_count": null,
   "id": "b466b89b",
   "metadata": {},
   "outputs": [],
   "source": [
    "df_train_T['topw']=df_train_T['conteos'].apply(lambda x:list(x.keys())[:5])\n",
    "df_train_T.head()"
   ]
  },
  {
   "cell_type": "code",
   "execution_count": null,
   "id": "d1f44190",
   "metadata": {},
   "outputs": [],
   "source": [
    "top=5\n",
    "df_train_T['topw']=df_train_T['conteos'].apply(lambda x:list({k: v for k, v in sorted(x.items(), key=lambda item: item[1],reverse=True)}.keys())[:top])\n",
    "df_train_T.head()"
   ]
  },
  {
   "cell_type": "markdown",
   "id": "638c1bfc",
   "metadata": {},
   "source": [
    "## Todo en 1\n",
    "### Data Frames de Trabajo\n",
    "- **Se puede jugar con el parámetro _top_ para aumentar o reducir el vocabulario**\n",
    "- Se crean diccionarios para indexar las palabras a valores numéricos"
   ]
  },
  {
   "cell_type": "code",
   "execution_count": null,
   "id": "ec9aef0f",
   "metadata": {},
   "outputs": [],
   "source": [
    "df_train_T = df_train.copy()\n",
    "df_test_T = df_test.copy()\n",
    "\n",
    "\"\"\"\n",
    "Cambiar si se desea (y se puede) aumentar el vocabulario\n",
    "\"\"\"\n",
    "top=5\n",
    "\n",
    "df_train_T['topw']=df_train_T['texto'].apply(lambda x:[w[0] for w in sorted(Counter(x.split()).items(), key=lambda item: item[1],reverse=True)[:top]])\n",
    "df_test_T['topw']=df_test_T['texto'].apply(lambda x:[w[0] for w in sorted(Counter(x.split()).items(), key=lambda item: item[1],reverse=True)[:top]])\n",
    "\n",
    "### Vocabulario de entrenamiento y prueba\n",
    "vTR={}\n",
    "vTS={}\n",
    "\n",
    "# Obtenemos el vocabulario de entrenamiento\n",
    "i=0\n",
    "for l in df_train_T.topw.values:\n",
    "    for w in l:\n",
    "        if w not in vTR:\n",
    "            vTR[w]=i\n",
    "            i+=1\n",
    "vTR['UNK']=i # Agregamos palabra desconocida 'UNK'\n",
    "\n",
    "print(len(vTR), 'palabras en vocabulario entrenamiento, incluyendo palabra desconocida (UNK)')\n",
    "\n",
    "# Sustituimos palabra que no esta en vTR por palabra desconocida 'UNK' en textos de prueba\n",
    "df_test_T['topw']=df_test_T['topw'].apply(lambda x:[w if w in vTR.keys() else 'UNK' for w in x])\n",
    "\n",
    "# Obtenemos el vocabulario de prueba\n",
    "i=0\n",
    "for l in df_test_T.topw.values:\n",
    "    for w in l:\n",
    "        if w not in vTS: \n",
    "            vTS[w]=i\n",
    "            i+=1\n",
    "\n",
    "print(len(vTS), 'palabras en vocabulario de prueba, incluyendo palabra desconocida (UNK)')\n",
    "\n",
    "df_tr= df_train_T.filter(['titulo','tipo','autor'], axis=1)\n",
    "df_ts= df_test_T.filter(['titulo'], axis=1)\n",
    "for i in range(top):\n",
    "    df_tr['w{}'.format(i)]=''\n",
    "for i in range(top):\n",
    "    df_ts['w{}'.format(i)]=''\n",
    "\n",
    "for i,row in enumerate(df_train_T.iterrows()):\n",
    "    l=row[1]['topw']\n",
    "    for j,w in enumerate(l):\n",
    "        df_tr.iloc[i,df_tr.columns.get_loc('w{}'.format(j))]=w\n",
    "for i,row in enumerate(df_test_T.iterrows()):\n",
    "    l=row[1]['topw']\n",
    "    for j,w in enumerate(l):\n",
    "        df_ts.iloc[i,df_ts.columns.get_loc('w{}'.format(j))]=w\n",
    "   \n",
    "display(df_tr.head())\n",
    "display(df_ts.head())\n"
   ]
  },
  {
   "cell_type": "markdown",
   "id": "87c7176f-5e8c-44e5-a748-5a9ebd460fad",
   "metadata": {},
   "source": [
    "## Preguntas"
   ]
  },
  {
   "cell_type": "markdown",
   "id": "e14e8a53-7258-4606-88dd-e36eb533d164",
   "metadata": {},
   "source": [
    "1. ¿Quién escribió \"El caballo y el Lobo\"?\n",
    "2. \"La escopeta\" ¿es una fábula?\n",
    "3. ¿Qué probabilidad hay de que \"La muerte\" haya sido escrita por José Saramago\n",
    "4. ¿Pudo \"La marcha del caracol\" haber sido escrita por García Márquez y Fuentes en co-autoría?\n",
    "5. Dado que \"El águila de ala cortada y la zorra\" es una fábula, ¿qué probabilidad hay de que haya sido escrita por Jalil Gibrán?\n",
    "6. ¿Qué proporción hay de minicuentos?\n",
    "7. ¿Qué cuentos son de Carlos Onetti?\n",
    "8. ¿Quién dijo: \"Desde que abrí los ojos me di cuenta que mi sitio no estaba aquí, donde yo estoy, sino en donde no estoy ni he estado nunca. En alguna parte hay un lugar vacío y ese vacío se llenará de mí y yo me asentaré en ese hueco que insensiblemente rebosará de mí, pleno de mí hasta volverse fuente o surtidor. Y mi vacío, el vacío de mí que soy ahora, se llenará de sí, pleno de sí, pleno de ser hasta los bordes.\"?\n",
    "9. ¿Quién es el autor con más cuentos?\n",
    "10. ¿Qué probablidad hay de quien haya escrito \"Retiniblastoma\" haya también escrito \"El sol y las ranas\"?"
   ]
  },
  {
   "cell_type": "markdown",
   "id": "a3292992-7386-4da8-960b-a3324c76200a",
   "metadata": {},
   "source": [
    "# Avance de una solución posible"
   ]
  },
  {
   "cell_type": "markdown",
   "id": "7de6de44-febb-4faf-a692-01a944ffada4",
   "metadata": {},
   "source": [
    "## Modelo:\n",
    "### Suponiendo independencia condicional de las palabras conociendo el tipo:"
   ]
  },
  {
   "cell_type": "markdown",
   "id": "e3f28071",
   "metadata": {},
   "source": [
    "<img src=\"Cuentos-Modelo.jpeg\" width=400/> <img src=\"Cuentos-Modelo-2.jpeg\" width=400/>"
   ]
  },
  {
   "cell_type": "markdown",
   "id": "16db1a74-fa3b-4ee6-b8fc-79fe3d2268e4",
   "metadata": {},
   "source": [
    "### $P(A)P(T|A)\\prod_{i=1}^N P(W_i|T)$"
   ]
  },
  {
   "cell_type": "markdown",
   "id": "28a61b32-35c4-4463-9d8a-9964d4200452",
   "metadata": {},
   "source": [
    "## Variables"
   ]
  },
  {
   "cell_type": "markdown",
   "id": "1c012aae-2679-4883-9e93-130b6a0d9d8d",
   "metadata": {},
   "source": [
    "### Conteo de autores y tipos de cuento"
   ]
  },
  {
   "cell_type": "markdown",
   "id": "9445f955-bc4c-463f-a922-39a6cf9fcab1",
   "metadata": {},
   "source": []
  },
  {
   "cell_type": "code",
   "execution_count": null,
   "id": "d9a1e545-e5c9-497c-a98c-82065ee8fb99",
   "metadata": {},
   "outputs": [],
   "source": [
    "# Ocurrencias de cada autor y conteos de ocurrencias y de número de autores\n",
    "oc_autor = Counter(df_train_T.autor)\n",
    "tot_oc_aut = np.sum(list(oc_autor.values()))\n",
    "tot_autores = len(oc_autor)\n",
    "\n",
    "print('{0} autores en total: {1}'.format(tot_autores,list(oc_autor.keys())))\n",
    "print('{} menciones totales'.format(tot_oc_aut))\n",
    "\n",
    "# Ocurrencias de cada tipo y conteos de ocurrencias y de número de tipos\n",
    "oc_tipo = Counter(df_train_T.tipo)\n",
    "tot_oc_tipo = np.sum(list(oc_tipo.values()))\n",
    "tot_tipos = len(oc_tipo)\n",
    "\n",
    "print('{0} tipos de cuento en total: {1}'.format(tot_tipos,list(oc_tipo.keys())))\n",
    "print('{} menciones totales'.format(tot_oc_tipo))"
   ]
  },
  {
   "cell_type": "markdown",
   "id": "a5753c8f-89d8-4e3f-8475-8faf399eb4ac",
   "metadata": {},
   "source": [
    "### Definición de variables MIB\n",
    "\n",
    "#### **Nota Importante**\n",
    "* Por ahora, el motor de inferencia sólo acepta valores numéricos como valores posibles de una variable.\n",
    "* Por lo tanto, vamos a crear un mapeo entre los nombres de los autores y un valor entero mediante un diccionario.\n",
    "* También creamos un mapeo inverso, para poder recuperar las etiquetas a partir de los enteros.\n",
    "* Haremos lo mismo con los tipos."
   ]
  },
  {
   "cell_type": "code",
   "execution_count": null,
   "id": "6a5651a0-63f8-451c-b7c8-af2b3f75916c",
   "metadata": {},
   "outputs": [],
   "source": [
    "\"\"\"\n",
    "Autor\n",
    "\"\"\"\n",
    "#diccionario autor->valor\n",
    "autor_val = dict(zip(oc_autor.keys(),range(len(oc_autor.keys()))))\n",
    "#diccionario valor->autor\n",
    "val_autor = dict(zip(range(len(oc_autor.keys())),oc_autor.keys()))\n",
    "print(autor_val)\n",
    "print(val_autor)\n",
    "A=mb.Var('A')\n",
    "A.set_values(range(len(autor_val)))\n",
    "print(A.print_var())\n",
    "\n",
    "\"\"\"\n",
    "Tipo\n",
    "\"\"\"\n",
    "\n",
    "\n",
    "\n",
    "\"\"\"\n",
    "Palabras\n",
    "\"\"\"\n",
    "#Palabras, presente:1 ausente:0\n",
    "#Se crean de manera similar a como se hizo para el filtro SPAM\n"
   ]
  },
  {
   "cell_type": "code",
   "execution_count": null,
   "id": "e5fb2807",
   "metadata": {},
   "outputs": [],
   "source": [
    "print(f'W[{25}]: {W[25]}')"
   ]
  },
  {
   "cell_type": "markdown",
   "id": "858031d1-d8a2-47ad-851b-2334df1f1d1e",
   "metadata": {},
   "source": [
    "## Identificación de parámetros (estadísticas)"
   ]
  },
  {
   "cell_type": "code",
   "execution_count": null,
   "id": "54bfeccb",
   "metadata": {},
   "outputs": [],
   "source": []
  }
 ],
 "metadata": {
  "kernelspec": {
   "display_name": "Python 3.7.11 ('base')",
   "language": "python",
   "name": "python3"
  },
  "language_info": {
   "codemirror_mode": {
    "name": "ipython",
    "version": 3
   },
   "file_extension": ".py",
   "mimetype": "text/x-python",
   "name": "python",
   "nbconvert_exporter": "python",
   "pygments_lexer": "ipython3",
   "version": "3.7.11"
  },
  "vscode": {
   "interpreter": {
    "hash": "ad2bdc8ecc057115af97d19610ffacc2b4e99fae6737bb82f5d7fb13d2f2c186"
   }
  }
 },
 "nbformat": 4,
 "nbformat_minor": 5
}
